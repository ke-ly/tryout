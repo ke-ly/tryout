{
 "cells": [
  {
   "cell_type": "code",
   "execution_count": 1,
   "metadata": {},
   "outputs": [],
   "source": [
    "import tushare as ts\n",
    "import pandas as pd\n",
    "\n",
    "pd.set_option('display.max_columns', None)\n",
    "pd.set_option('display.max_rows', None)\n",
    "pro = ts.pro_api('token')\n",
    "mf = [\"161028.OF\",\"163406.OF\",\"340007.OF\",\"001740.OF\",\"161725.OF\",\"257070.OF\",\"007300.OF\",\"001717.OF\",\"001594.OF\",\"006585.OF\",\"008086.OF\",\"010319.OF\",\"000118.OF\"]"
   ]
  },
  {
   "cell_type": "code",
   "execution_count": 2,
   "metadata": {},
   "outputs": [],
   "source": [
    "import urllib\n",
    "import json\n",
    "url=\"http://192.168.1.150:8112/manage/xuangu/all_stock\"\n",
    "    \n",
    "res = urllib.request.urlopen(url)\n",
    "d = json.loads(res.read().decode('utf-8'))\n"
   ]
  },
  {
   "cell_type": "code",
   "execution_count": 3,
   "metadata": {},
   "outputs": [
    {
     "output_type": "execute_result",
     "data": {
      "text/plain": [
       "     ts_code  symbol  name area industry market list_date\n",
       "0  000001.SZ  000001  平安银行   深圳       银行     主板  19910403\n",
       "1  000002.SZ  000002   万科A   深圳     全国地产     主板  19910129\n",
       "2  000004.SZ  000004  国华网安   深圳     软件服务     主板  19910114\n",
       "3  000005.SZ  000005  世纪星源   深圳     环境保护     主板  19901210\n",
       "4  000006.SZ  000006  深振业A   深圳     区域地产     主板  19920427"
      ],
      "text/html": "<div>\n<style scoped>\n    .dataframe tbody tr th:only-of-type {\n        vertical-align: middle;\n    }\n\n    .dataframe tbody tr th {\n        vertical-align: top;\n    }\n\n    .dataframe thead th {\n        text-align: right;\n    }\n</style>\n<table border=\"1\" class=\"dataframe\">\n  <thead>\n    <tr style=\"text-align: right;\">\n      <th></th>\n      <th>ts_code</th>\n      <th>symbol</th>\n      <th>name</th>\n      <th>area</th>\n      <th>industry</th>\n      <th>market</th>\n      <th>list_date</th>\n    </tr>\n  </thead>\n  <tbody>\n    <tr>\n      <th>0</th>\n      <td>000001.SZ</td>\n      <td>000001</td>\n      <td>平安银行</td>\n      <td>深圳</td>\n      <td>银行</td>\n      <td>主板</td>\n      <td>19910403</td>\n    </tr>\n    <tr>\n      <th>1</th>\n      <td>000002.SZ</td>\n      <td>000002</td>\n      <td>万科A</td>\n      <td>深圳</td>\n      <td>全国地产</td>\n      <td>主板</td>\n      <td>19910129</td>\n    </tr>\n    <tr>\n      <th>2</th>\n      <td>000004.SZ</td>\n      <td>000004</td>\n      <td>国华网安</td>\n      <td>深圳</td>\n      <td>软件服务</td>\n      <td>主板</td>\n      <td>19910114</td>\n    </tr>\n    <tr>\n      <th>3</th>\n      <td>000005.SZ</td>\n      <td>000005</td>\n      <td>世纪星源</td>\n      <td>深圳</td>\n      <td>环境保护</td>\n      <td>主板</td>\n      <td>19901210</td>\n    </tr>\n    <tr>\n      <th>4</th>\n      <td>000006.SZ</td>\n      <td>000006</td>\n      <td>深振业A</td>\n      <td>深圳</td>\n      <td>区域地产</td>\n      <td>主板</td>\n      <td>19920427</td>\n    </tr>\n  </tbody>\n</table>\n</div>"
     },
     "metadata": {},
     "execution_count": 3
    }
   ],
   "source": [
    "#所有股票\n",
    "stocks = pro.stock_basic()\n",
    "stocks.head()"
   ]
  },
  {
   "cell_type": "code",
   "execution_count": 4,
   "metadata": {},
   "outputs": [
    {
     "output_type": "execute_result",
     "data": {
      "text/plain": [
       "        ts_code  symbol  name area industry market list_date  count\n",
       "346   000858.SZ  000858   五粮液   四川       白酒     主板  19980427    112\n",
       "2807  600519.SH  600519  贵州茅台   贵州       白酒     主板  20010827    102\n",
       "862   002415.SZ  002415  海康威视   浙江     电器仪表    中小板  20100528     87\n",
       "3206  601012.SH  601012  隆基股份   陕西     电气设备     主板  20120411     84\n",
       "69    000333.SZ  000333  美的集团   广东     家用电器     主板  20130918     80"
      ],
      "text/html": "<div>\n<style scoped>\n    .dataframe tbody tr th:only-of-type {\n        vertical-align: middle;\n    }\n\n    .dataframe tbody tr th {\n        vertical-align: top;\n    }\n\n    .dataframe thead th {\n        text-align: right;\n    }\n</style>\n<table border=\"1\" class=\"dataframe\">\n  <thead>\n    <tr style=\"text-align: right;\">\n      <th></th>\n      <th>ts_code</th>\n      <th>symbol</th>\n      <th>name</th>\n      <th>area</th>\n      <th>industry</th>\n      <th>market</th>\n      <th>list_date</th>\n      <th>count</th>\n    </tr>\n  </thead>\n  <tbody>\n    <tr>\n      <th>346</th>\n      <td>000858.SZ</td>\n      <td>000858</td>\n      <td>五粮液</td>\n      <td>四川</td>\n      <td>白酒</td>\n      <td>主板</td>\n      <td>19980427</td>\n      <td>112</td>\n    </tr>\n    <tr>\n      <th>2807</th>\n      <td>600519.SH</td>\n      <td>600519</td>\n      <td>贵州茅台</td>\n      <td>贵州</td>\n      <td>白酒</td>\n      <td>主板</td>\n      <td>20010827</td>\n      <td>102</td>\n    </tr>\n    <tr>\n      <th>862</th>\n      <td>002415.SZ</td>\n      <td>002415</td>\n      <td>海康威视</td>\n      <td>浙江</td>\n      <td>电器仪表</td>\n      <td>中小板</td>\n      <td>20100528</td>\n      <td>87</td>\n    </tr>\n    <tr>\n      <th>3206</th>\n      <td>601012.SH</td>\n      <td>601012</td>\n      <td>隆基股份</td>\n      <td>陕西</td>\n      <td>电气设备</td>\n      <td>主板</td>\n      <td>20120411</td>\n      <td>84</td>\n    </tr>\n    <tr>\n      <th>69</th>\n      <td>000333.SZ</td>\n      <td>000333</td>\n      <td>美的集团</td>\n      <td>广东</td>\n      <td>家用电器</td>\n      <td>主板</td>\n      <td>20130918</td>\n      <td>80</td>\n    </tr>\n  </tbody>\n</table>\n</div>"
     },
     "metadata": {},
     "execution_count": 4
    }
   ],
   "source": [
    "#基金持仓股票统计\n",
    "df = pro.fund_portfolio(start_date=\"20200930\")\n",
    "\n",
    "jdfa = '000725.SZ'\n",
    "gzmt = '600519.SH'\n",
    "sy = df.loc[df['symbol'] == jdfa]\n",
    "c = df['symbol'].value_counts()    \n",
    "df = stocks.loc[ lambda df : df['ts_code'].isin(list(c.index))].copy()\n",
    "df.loc[:,'count'] = df.apply(lambda x : c[x['ts_code']] ,axis=1)\n",
    "df = df.loc[df['count'] > 2]\n",
    "df = df.sort_values('count', ascending = False)\n",
    "df.head()"
   ]
  },
  {
   "cell_type": "code",
   "execution_count": 5,
   "metadata": {},
   "outputs": [
    {
     "output_type": "execute_result",
     "data": {
      "text/plain": [
       "     ts_code  ann_date  end_date  unit_nav  accum_nav accum_div  net_asset  \\\n",
       "0  340007.OF  20210420  20210419     5.546      5.736      None        NaN   \n",
       "1  340007.OF  20210417  20210416     5.358      5.548      None        NaN   \n",
       "2  340007.OF  20210416  20210415     5.372      5.562      None        NaN   \n",
       "3  340007.OF  20210415  20210414     5.409      5.599      None        NaN   \n",
       "4  340007.OF  20210414  20210413     5.308      5.498      None        NaN   \n",
       "\n",
       "   total_netasset   adj_nav update_flag  \n",
       "0             NaN  6.319671           0  \n",
       "1             NaN  6.105445           0  \n",
       "2             NaN  6.121398           0  \n",
       "3             NaN  6.163559           0  \n",
       "4             NaN  6.048470           0  "
      ],
      "text/html": "<div>\n<style scoped>\n    .dataframe tbody tr th:only-of-type {\n        vertical-align: middle;\n    }\n\n    .dataframe tbody tr th {\n        vertical-align: top;\n    }\n\n    .dataframe thead th {\n        text-align: right;\n    }\n</style>\n<table border=\"1\" class=\"dataframe\">\n  <thead>\n    <tr style=\"text-align: right;\">\n      <th></th>\n      <th>ts_code</th>\n      <th>ann_date</th>\n      <th>end_date</th>\n      <th>unit_nav</th>\n      <th>accum_nav</th>\n      <th>accum_div</th>\n      <th>net_asset</th>\n      <th>total_netasset</th>\n      <th>adj_nav</th>\n      <th>update_flag</th>\n    </tr>\n  </thead>\n  <tbody>\n    <tr>\n      <th>0</th>\n      <td>340007.OF</td>\n      <td>20210420</td>\n      <td>20210419</td>\n      <td>5.546</td>\n      <td>5.736</td>\n      <td>None</td>\n      <td>NaN</td>\n      <td>NaN</td>\n      <td>6.319671</td>\n      <td>0</td>\n    </tr>\n    <tr>\n      <th>1</th>\n      <td>340007.OF</td>\n      <td>20210417</td>\n      <td>20210416</td>\n      <td>5.358</td>\n      <td>5.548</td>\n      <td>None</td>\n      <td>NaN</td>\n      <td>NaN</td>\n      <td>6.105445</td>\n      <td>0</td>\n    </tr>\n    <tr>\n      <th>2</th>\n      <td>340007.OF</td>\n      <td>20210416</td>\n      <td>20210415</td>\n      <td>5.372</td>\n      <td>5.562</td>\n      <td>None</td>\n      <td>NaN</td>\n      <td>NaN</td>\n      <td>6.121398</td>\n      <td>0</td>\n    </tr>\n    <tr>\n      <th>3</th>\n      <td>340007.OF</td>\n      <td>20210415</td>\n      <td>20210414</td>\n      <td>5.409</td>\n      <td>5.599</td>\n      <td>None</td>\n      <td>NaN</td>\n      <td>NaN</td>\n      <td>6.163559</td>\n      <td>0</td>\n    </tr>\n    <tr>\n      <th>4</th>\n      <td>340007.OF</td>\n      <td>20210414</td>\n      <td>20210413</td>\n      <td>5.308</td>\n      <td>5.498</td>\n      <td>None</td>\n      <td>NaN</td>\n      <td>NaN</td>\n      <td>6.048470</td>\n      <td>0</td>\n    </tr>\n  </tbody>\n</table>\n</div>"
     },
     "metadata": {},
     "execution_count": 5
    }
   ],
   "source": [
    "df = pro.fund_nav(ts_code=\"340007.OF\")\n",
    "df.head()"
   ]
  },
  {
   "cell_type": "code",
   "execution_count": 6,
   "metadata": {},
   "outputs": [
    {
     "output_type": "execute_result",
     "data": {
      "text/plain": [
       "     ts_code trade_date  fd_share fund_type market\n",
       "0  010160.OF   20200930  806.4429      None      O"
      ],
      "text/html": "<div>\n<style scoped>\n    .dataframe tbody tr th:only-of-type {\n        vertical-align: middle;\n    }\n\n    .dataframe tbody tr th {\n        vertical-align: top;\n    }\n\n    .dataframe thead th {\n        text-align: right;\n    }\n</style>\n<table border=\"1\" class=\"dataframe\">\n  <thead>\n    <tr style=\"text-align: right;\">\n      <th></th>\n      <th>ts_code</th>\n      <th>trade_date</th>\n      <th>fd_share</th>\n      <th>fund_type</th>\n      <th>market</th>\n    </tr>\n  </thead>\n  <tbody>\n    <tr>\n      <th>0</th>\n      <td>010160.OF</td>\n      <td>20200930</td>\n      <td>806.4429</td>\n      <td>None</td>\n      <td>O</td>\n    </tr>\n  </tbody>\n</table>\n</div>"
     },
     "metadata": {},
     "execution_count": 6
    }
   ],
   "source": [
    "df_share = pro.fund_share(ts_code = \"010160.OF\",end_date=\"20201208\")\n",
    "df_share.head()"
   ]
  },
  {
   "cell_type": "code",
   "execution_count": 7,
   "metadata": {
    "scrolled": true
   },
   "outputs": [
    {
     "output_type": "execute_result",
     "data": {
      "text/plain": [
       "111"
      ]
     },
     "metadata": {},
     "execution_count": 7
    }
   ],
   "source": [
    "\n",
    "df['ff'] = df['adj_nav'].diff(-1)/ df['adj_nav'].shift(-1)\n",
    "\n",
    "\n",
    "rows = df[df['end_date'] == '20201105'].index.values\n",
    "cc = round(((df.iloc[0]['adj_nav'] - df.iloc[rows]['adj_nav']) / df.iloc[rows]['adj_nav'])*100,2)\n",
    "# df.head(30)\n",
    "rows[0]"
   ]
  },
  {
   "cell_type": "code",
   "execution_count": 8,
   "metadata": {},
   "outputs": [],
   "source": [
    "cal = pro.trade_cal(start_date=\"20201101\").loc[:,['cal_date','is_open']]\n"
   ]
  },
  {
   "cell_type": "code",
   "execution_count": 9,
   "metadata": {},
   "outputs": [
    {
     "output_type": "execute_result",
     "data": {
      "text/plain": [
       "DateTime(2021, 4, 19, 0, 0, 0, tzinfo=Timezone('UTC'))"
      ]
     },
     "metadata": {},
     "execution_count": 9
    }
   ],
   "source": [
    "import datetime\n",
    "import pendulum\n",
    "date = datetime.datetime.strptime('20200229', '%Y%m%d')\n",
    "# year = int(date.tm_year) - 2\n",
    "# date.tm_year = year\n",
    "# time.strftime('%Y%m%d',date)\n",
    "today = datetime.datetime.today()\n",
    "y = pendulum.datetime(today.year, today.month,today.day).subtract(days=1)\n",
    "c = pendulum.datetime(date.year, date.month, date.day).subtract(months=1)\n",
    "y"
   ]
  },
  {
   "cell_type": "code",
   "execution_count": 11,
   "metadata": {},
   "outputs": [
    {
     "output_type": "stream",
     "name": "stdout",
     "text": [
      "     ts_code  ann_date name gender birth_year edu nationality begin_date  \\\n0  001511.OF  20150702  董承非      M       1977  硕士          中国   20150701   \n1  163402.SZ  20131026  董承非      M       1977  硕士          中国   20131028   \n\n  end_date                                             resume  \n0     None  理学硕士。2003年9月加入兴业全球基金管理有限公司，历任研究策划部行业研究员、兴全趋势投资...  \n1     None  理学硕士。2003年9月加入兴业全球基金管理有限公司，历任研究策划部行业研究员、兴全趋势投资...  \n"
     ]
    },
    {
     "output_type": "execute_result",
     "data": {
      "text/plain": [
       "[]"
      ]
     },
     "metadata": {},
     "execution_count": 11
    }
   ],
   "source": [
    "df = pro.fund_manager(limit=\"100\", name=\"董承非\")\n",
    "df = df.loc[df['end_date'].isnull()]\n",
    "g = df.groupby('name')\n",
    "\n",
    "arr = []\n",
    "for ts,item in g:\n",
    "    \n",
    "#     item.reset_index(inplace = True)\n",
    "#     obj = dict(\n",
    "#         name=ts,\n",
    "#         edu = item.loc[0,'edu'],\n",
    "#         birth_year = item.loc[0,'birth_year'],\n",
    "#         gender = item.loc[0,'gender'],\n",
    "#         nationality = item.loc[0,'nationality'],\n",
    "#         resume = item.loc[0,'resume'],\n",
    "#         funds = [ { \"ts_code\":i.ts_code, \"begin_date\":i.begin_date } for i in item.itertuples() ]\n",
    "#     )    \n",
    "    print(item)\n",
    "    # arr.append(obj)\n",
    "arr\n",
    "\n"
   ]
  },
  {
   "cell_type": "code",
   "execution_count": null,
   "metadata": {},
   "outputs": [],
   "source": []
  }
 ],
 "metadata": {
  "kernelspec": {
   "name": "python38564bit1608004976be424b9591a96723540a7c",
   "display_name": "Python 3.8.5 64-bit"
  },
  "language_info": {
   "codemirror_mode": {
    "name": "ipython",
    "version": 3
   },
   "file_extension": ".py",
   "mimetype": "text/x-python",
   "name": "python",
   "nbconvert_exporter": "python",
   "pygments_lexer": "ipython3",
   "version": "3.8.5"
  },
  "metadata": {
   "interpreter": {
    "hash": "0f05d16c1b83377963a82b6d3da80741641a126d3dca6987220abadb315bf0d0"
   }
  }
 },
 "nbformat": 4,
 "nbformat_minor": 4
}